{
  "nbformat": 4,
  "nbformat_minor": 0,
  "metadata": {
    "colab": {
      "name": "Pigeonhole.ipynb adlı not defterinin kopyası",
      "provenance": [],
      "collapsed_sections": [],
      "include_colab_link": true
    },
    "kernelspec": {
      "name": "python3",
      "display_name": "Python 3"
    }
  },
  "cells": [
    {
      "cell_type": "markdown",
      "metadata": {
        "id": "view-in-github",
        "colab_type": "text"
      },
      "source": [
        "<a href=\"https://colab.research.google.com/github/tawfiqahmad88/Ayrik-Sistemler-Icin-Ileri-Olasilik-devi-01/blob/main/Pigeonhole_ipynb_adl%C4%B1_not_defterinin_kopyas%C4%B1.ipynb\" target=\"_parent\"><img src=\"https://colab.research.google.com/assets/colab-badge.svg\" alt=\"Open In Colab\"/></a>"
      ]
    },
    {
      "cell_type": "markdown",
      "source": [
        "**ÖDEV 01**"
      ],
      "metadata": {
        "id": "hNkZ4WKUzker"
      }
    },
    {
      "cell_type": "markdown",
      "source": [
        "**We will  use  Python language, and using the law (the pigeonhole principle) to  solve the following question:**\n",
        "\n",
        "\n",
        "\n",
        "\n"
      ],
      "metadata": {
        "id": "tFnxK8zt0JMR"
      }
    },
    {
      "cell_type": "markdown",
      "source": [
        ""
      ],
      "metadata": {
        "id": "zXTRRZUOtFD_"
      }
    },
    {
      "cell_type": "markdown",
      "source": [
        "**Qustion 1 : **A box  contains 20 red socks, 20 white socks, 20 black socks, 20 green socks and 20 blue socks. What is the minimum number of socks you have to choose randomly from the box to ensure that we get 5 socks of same color?"
      ],
      "metadata": {
        "id": "ocKcpGi25dRg"
      }
    },
    {
      "cell_type": "markdown",
      "source": [
        "Solution: we  Apply pigeonhole principl to solve this question \n",
        "\n",
        "Total socks are T= 100\n",
        "\n",
        "The number for each color type C=20\n",
        "\n",
        "If we suppose number of colors = number of pigeonholes y= 5;\n",
        "\n",
        "If we suppose the number of pigeons g= 6 to the socks;\n",
        "\n",
        "If we choose 31 socks randomly, 5 socks will be of the same color. ceil\n",
        "\n",
        "⎡31/5⎤ = 7"
      ],
      "metadata": {
        "id": "yOtC34bHKbbX"
      }
    },
    {
      "cell_type": "code",
      "source": [
        "from random import shuffle\n",
        "\n",
        "Red = []\n",
        "Blue = []\n",
        "White = []\n",
        "Yellow = []\n",
        "Green = []\n",
        "\n",
        "\n",
        "# fill colors in arrays\n",
        "C =20\n",
        "\n",
        "for i in range(C):\n",
        "    Red.append('R')\n",
        "    Blue.append('B')\n",
        "    White.append('W')\n",
        "    Yellow.append('Y')\n",
        "    Green.append('G')\n",
        "print('\\n Red(Red) : {}'.format(Red),'=',(len(Red)))\n",
        "print('Blue (Blue) : {}'.format(Blue),'=',(len(Blue)))\n",
        "print('White (White): {}'.format(White),'=',(len(White)))\n",
        "print('Yellow (Yellow) : {}'.format(Yellow),'=',(len(Yellow)))\n",
        "print('Green (Green) : {}'.format(Green ),'=',(len(Green )),'\\n')\n",
        "Total_Colors = []\n",
        "\n",
        "# tum renkler dizisi olustur renkler sirali cekilmeyecegi icin karistir\n",
        "# create an array of all colors mix the colors as they will not be drawn sequentially\n",
        "\n",
        "Total_Colors = Red + Blue + White + Yellow + Green\n",
        "shuffle(Total_Colors)\n",
        "\n",
        "print('Toplam_Renkler(Total_Color) : {} = {}\\n'.format(len(Total_Colors), Total_Colors ))\n",
        "\n",
        "Selected_red = []\n",
        "Selected_blue = []\n",
        "Selected_white = []\n",
        "Selected_yellow = []\n",
        "Selected_green = []\n",
        "\n",
        "for i in range(C*6):\n",
        "    Selected_color = Total_Colors[i]\n",
        "    if Selected_color == 'R':\n",
        "        Selected_red.append('R')\n",
        "    elif Selected_color == 'B':\n",
        "        Selected_blue.append('B')\n",
        "    elif Selected_color == 'W':\n",
        "        Selected_white.append('W')\n",
        "    elif Selected_color == 'Y':\n",
        "        Selected_yellow.append('Y')\n",
        "    elif Selected_color == 'G':\n",
        "        Selected_green.append('G')\n",
        "\n",
        "    # tum renklerden en az 5 tane secilmis ise secmeyi birak\n",
        "    if len(Selected_red) >= 7 or len(Selected_blue) >= 7 or len(Selected_white) >= 7  or len(Selected_yellow) >= 7  or len(Selected_green) >= 7:\n",
        "        print('Number of socks selected (number of socks selected) : {}'.format(i+1))\n",
        "        print('Selected Red (Selected_red) : {} = {} sock(Piece)'.format(Selected_red,  len(Selected_red)))\n",
        "        print('Selected Blue (Selected_blue)   : {} = {} sock(Piece)'.format(Selected_blue, len(Selected_blue)))\n",
        "        print('Selected White (Selected_white) : {} = {} sock(Piece)'.format(Selected_white, len(Selected_white)))\n",
        "        print('Selected Yellow (Selected_yellow) : {} = {} sock(Piece) '.format(Selected_yellow,  len(Selected_yellow)))\n",
        "        print('Selected Green (Selected_green) : {} = {} sock(Piece) \\n'.format(Selected_green,  len(Selected_green)))\n",
        "        break"
      ],
      "metadata": {
        "id": "Bnke1DF65r8K",
        "outputId": "c5191dbc-59ce-4aae-9e29-4d49746744a0",
        "colab": {
          "base_uri": "https://localhost:8080/"
        }
      },
      "execution_count": null,
      "outputs": [
        {
          "output_type": "stream",
          "name": "stdout",
          "text": [
            "\n",
            " Red(Red) : ['R', 'R', 'R', 'R', 'R', 'R', 'R', 'R', 'R', 'R', 'R', 'R', 'R', 'R', 'R', 'R', 'R', 'R', 'R', 'R'] = 20\n",
            "Blue (Blue) : ['B', 'B', 'B', 'B', 'B', 'B', 'B', 'B', 'B', 'B', 'B', 'B', 'B', 'B', 'B', 'B', 'B', 'B', 'B', 'B'] = 20\n",
            "White (White): ['W', 'W', 'W', 'W', 'W', 'W', 'W', 'W', 'W', 'W', 'W', 'W', 'W', 'W', 'W', 'W', 'W', 'W', 'W', 'W'] = 20\n",
            "Yellow (Yellow) : ['Y', 'Y', 'Y', 'Y', 'Y', 'Y', 'Y', 'Y', 'Y', 'Y', 'Y', 'Y', 'Y', 'Y', 'Y', 'Y', 'Y', 'Y', 'Y', 'Y'] = 20\n",
            "Green (Green) : ['G', 'G', 'G', 'G', 'G', 'G', 'G', 'G', 'G', 'G', 'G', 'G', 'G', 'G', 'G', 'G', 'G', 'G', 'G', 'G'] = 20 \n",
            "\n",
            "Toplam_Renkler(Total_Color) : 100 = ['R', 'Y', 'R', 'R', 'W', 'B', 'B', 'Y', 'Y', 'W', 'G', 'Y', 'B', 'W', 'R', 'W', 'W', 'B', 'R', 'W', 'B', 'R', 'W', 'G', 'R', 'R', 'B', 'Y', 'G', 'G', 'B', 'G', 'Y', 'W', 'R', 'R', 'Y', 'Y', 'B', 'W', 'R', 'G', 'G', 'G', 'B', 'Y', 'G', 'B', 'Y', 'W', 'B', 'R', 'W', 'W', 'W', 'W', 'G', 'R', 'R', 'G', 'B', 'G', 'Y', 'Y', 'G', 'Y', 'Y', 'R', 'W', 'B', 'G', 'G', 'B', 'Y', 'B', 'G', 'Y', 'W', 'B', 'R', 'W', 'B', 'R', 'Y', 'W', 'G', 'G', 'G', 'R', 'W', 'Y', 'B', 'R', 'W', 'Y', 'G', 'B', 'Y', 'B', 'R']\n",
            "\n",
            "Number of socks selected (number of socks selected) : 23\n",
            "Selected Red (Selected_red) : ['R', 'R', 'R', 'R', 'R', 'R'] = 6 sock(Piece)\n",
            "Selected Blue (Selected_blue)   : ['B', 'B', 'B', 'B', 'B'] = 5 sock(Piece)\n",
            "Selected White (Selected_white) : ['W', 'W', 'W', 'W', 'W', 'W', 'W'] = 7 sock(Piece)\n",
            "Selected Yellow (Selected_yellow) : ['Y', 'Y', 'Y', 'Y'] = 4 sock(Piece) \n",
            "Selected Green (Selected_green) : ['G'] = 1 sock(Piece) \n",
            "\n"
          ]
        }
      ]
    }
  ]
}
