{
  "nbformat": 4,
  "nbformat_minor": 0,
  "metadata": {
    "colab": {
      "name": "Ödev 2 Permütasyon ve Kombinasypn.ipynb ",
      "provenance": [],
      "collapsed_sections": [],
      "include_colab_link": true
    },
    "kernelspec": {
      "name": "python3",
      "display_name": "Python 3"
    }
  },
  "cells": [
    {
      "cell_type": "markdown",
      "metadata": {
        "id": "view-in-github",
        "colab_type": "text"
      },
      "source": [
        "<a href=\"https://colab.research.google.com/github/tawfiqahmad88/Ayrik-Sistemler-Icin-Ileri-Olasilik-devi-01/blob/main/%C3%96dev_2_Perm%C3%BCtasyon_ve_Kombinasypn.ipynb\" target=\"_parent\"><img src=\"https://colab.research.google.com/assets/colab-badge.svg\" alt=\"Open In Colab\"/></a>"
      ]
    },
    {
      "cell_type": "markdown",
      "metadata": {
        "id": "B_0U7s4x_D3B"
      },
      "source": [
        "#***Ödev 2 Permütasyon ve Kombinasypn *** \n",
        "\n",
        "#***Örnek: Kombinasyon ve Permütasyon Hakında***\n",
        "\n",
        "#Bir dondurmacıda beş farklı dondurma çeşidi bulunmaktadır. dondurma Adılar boyle (Gelincikli, Çilek, Muz, portekal, Eskimo)Dondurma. Aylin üç çeşit dondurma almak istiyor.\n",
        "\n",
        "#A) Aylin kaç farklı seçim yapabilir?\n",
        "\n",
        "#B) Dondurmaların seçiminde sıranın önemli olması durumunda kaç farklı seçim yapılabilir?\n",
        "\n",
        "\n",
        "\n",
        "#**Çözüm**\n",
        "#n=5   beş farklı dondurma = (Gelincikli, Çilek, Muz, portekal, Eskimo)\n",
        "\n",
        "#r=3   Aylin üç çeşit dondurma istiyor.\n",
        "\n",
        "______\n",
        "#A) Aylin kaç farklı seçim yapabilir? **\n",
        "\n",
        "# ***1- Kombinasyon***\n",
        "#C(n,r)= n!/(n-r)!*r!\n",
        "\n",
        "#C(5,3)=5!/(5-3)!*3!=10   Aylin 10 farklı seçim yapabilir\n",
        "______\n",
        "\n",
        "#B) Dondurmaların seçiminde sıranın önemli olması durumunda kaç farklı seçim yapılabilir?\n",
        "# ***2- Permütasyon***\n",
        "\n",
        "#P(n,r)= n!/(n-r)!\n",
        "#P(5,3)= 5!/(5-3)! =(5 x 4 x 3 x 2 x 1)/(2 x 1) ==> 5 x 4 x 3=60"
      ]
    },
    {
      "cell_type": "code",
      "metadata": {
        "id": "0icPizlNc_68",
        "outputId": "e1e0da8b-57a7-493b-fb4c-6bac6b00b094",
        "colab": {
          "base_uri": "https://localhost:8080/"
        }
      },
      "source": [
        "from math import factorial\n",
        "from itertools import permutations \n",
        "from itertools import combinations \n",
        "\n",
        "\n",
        "n=5\n",
        "r=3\n",
        "\n",
        "                #A) Aylin kaç farklı seçim yapabilir? Kombinasyon (COMBINATION) \n",
        "def Cnr(n,r):\n",
        "    comb = combinations(['Gelincikli', 'Çilek', 'Muz', 'portekal', 'Eskimo'], r) \n",
        "    print(\"\\n Kombinasyon (Combinations)=\",factorial(n)/(factorial(r)*factorial(n-r)))\n",
        "    for i in list(comb): \n",
        "      print (\"Comb:\",i)\n",
        "Cnr(n,r)      \n",
        "              # B) Dondurmaların seçiminde sıranın önemli olması durumunda kaç farklı seçim yapılabilir?  # Permütasyon (PERMUTATION)\n",
        "def Pnr(n,r):\n",
        "    perm = permutations(['Gelincikli', 'Çilek', 'Muz', 'portekal', 'Eskimo'], r) \n",
        "    print(\"\\n Permitasyon (Permutations)=\",(factorial(n)/(factorial(n-r))))\n",
        "    for i in list(perm): \n",
        "      print (\"Perm:\",i)\n",
        "Pnr(n,r)\n",
        "\n",
        "              \n"
      ],
      "execution_count": null,
      "outputs": [
        {
          "output_type": "stream",
          "name": "stdout",
          "text": [
            "\n",
            " Kombinasyon (Combinations)= 10.0\n",
            "Comb: ('Gelincikli', 'Çilek', 'Muz')\n",
            "Comb: ('Gelincikli', 'Çilek', 'portekal')\n",
            "Comb: ('Gelincikli', 'Çilek', 'Eskimo')\n",
            "Comb: ('Gelincikli', 'Muz', 'portekal')\n",
            "Comb: ('Gelincikli', 'Muz', 'Eskimo')\n",
            "Comb: ('Gelincikli', 'portekal', 'Eskimo')\n",
            "Comb: ('Çilek', 'Muz', 'portekal')\n",
            "Comb: ('Çilek', 'Muz', 'Eskimo')\n",
            "Comb: ('Çilek', 'portekal', 'Eskimo')\n",
            "Comb: ('Muz', 'portekal', 'Eskimo')\n",
            "\n",
            " Permitasyon (Permutations)= 60.0\n",
            "Perm: ('Gelincikli', 'Çilek', 'Muz')\n",
            "Perm: ('Gelincikli', 'Çilek', 'portekal')\n",
            "Perm: ('Gelincikli', 'Çilek', 'Eskimo')\n",
            "Perm: ('Gelincikli', 'Muz', 'Çilek')\n",
            "Perm: ('Gelincikli', 'Muz', 'portekal')\n",
            "Perm: ('Gelincikli', 'Muz', 'Eskimo')\n",
            "Perm: ('Gelincikli', 'portekal', 'Çilek')\n",
            "Perm: ('Gelincikli', 'portekal', 'Muz')\n",
            "Perm: ('Gelincikli', 'portekal', 'Eskimo')\n",
            "Perm: ('Gelincikli', 'Eskimo', 'Çilek')\n",
            "Perm: ('Gelincikli', 'Eskimo', 'Muz')\n",
            "Perm: ('Gelincikli', 'Eskimo', 'portekal')\n",
            "Perm: ('Çilek', 'Gelincikli', 'Muz')\n",
            "Perm: ('Çilek', 'Gelincikli', 'portekal')\n",
            "Perm: ('Çilek', 'Gelincikli', 'Eskimo')\n",
            "Perm: ('Çilek', 'Muz', 'Gelincikli')\n",
            "Perm: ('Çilek', 'Muz', 'portekal')\n",
            "Perm: ('Çilek', 'Muz', 'Eskimo')\n",
            "Perm: ('Çilek', 'portekal', 'Gelincikli')\n",
            "Perm: ('Çilek', 'portekal', 'Muz')\n",
            "Perm: ('Çilek', 'portekal', 'Eskimo')\n",
            "Perm: ('Çilek', 'Eskimo', 'Gelincikli')\n",
            "Perm: ('Çilek', 'Eskimo', 'Muz')\n",
            "Perm: ('Çilek', 'Eskimo', 'portekal')\n",
            "Perm: ('Muz', 'Gelincikli', 'Çilek')\n",
            "Perm: ('Muz', 'Gelincikli', 'portekal')\n",
            "Perm: ('Muz', 'Gelincikli', 'Eskimo')\n",
            "Perm: ('Muz', 'Çilek', 'Gelincikli')\n",
            "Perm: ('Muz', 'Çilek', 'portekal')\n",
            "Perm: ('Muz', 'Çilek', 'Eskimo')\n",
            "Perm: ('Muz', 'portekal', 'Gelincikli')\n",
            "Perm: ('Muz', 'portekal', 'Çilek')\n",
            "Perm: ('Muz', 'portekal', 'Eskimo')\n",
            "Perm: ('Muz', 'Eskimo', 'Gelincikli')\n",
            "Perm: ('Muz', 'Eskimo', 'Çilek')\n",
            "Perm: ('Muz', 'Eskimo', 'portekal')\n",
            "Perm: ('portekal', 'Gelincikli', 'Çilek')\n",
            "Perm: ('portekal', 'Gelincikli', 'Muz')\n",
            "Perm: ('portekal', 'Gelincikli', 'Eskimo')\n",
            "Perm: ('portekal', 'Çilek', 'Gelincikli')\n",
            "Perm: ('portekal', 'Çilek', 'Muz')\n",
            "Perm: ('portekal', 'Çilek', 'Eskimo')\n",
            "Perm: ('portekal', 'Muz', 'Gelincikli')\n",
            "Perm: ('portekal', 'Muz', 'Çilek')\n",
            "Perm: ('portekal', 'Muz', 'Eskimo')\n",
            "Perm: ('portekal', 'Eskimo', 'Gelincikli')\n",
            "Perm: ('portekal', 'Eskimo', 'Çilek')\n",
            "Perm: ('portekal', 'Eskimo', 'Muz')\n",
            "Perm: ('Eskimo', 'Gelincikli', 'Çilek')\n",
            "Perm: ('Eskimo', 'Gelincikli', 'Muz')\n",
            "Perm: ('Eskimo', 'Gelincikli', 'portekal')\n",
            "Perm: ('Eskimo', 'Çilek', 'Gelincikli')\n",
            "Perm: ('Eskimo', 'Çilek', 'Muz')\n",
            "Perm: ('Eskimo', 'Çilek', 'portekal')\n",
            "Perm: ('Eskimo', 'Muz', 'Gelincikli')\n",
            "Perm: ('Eskimo', 'Muz', 'Çilek')\n",
            "Perm: ('Eskimo', 'Muz', 'portekal')\n",
            "Perm: ('Eskimo', 'portekal', 'Gelincikli')\n",
            "Perm: ('Eskimo', 'portekal', 'Çilek')\n",
            "Perm: ('Eskimo', 'portekal', 'Muz')\n"
          ]
        }
      ]
    }
  ]
}