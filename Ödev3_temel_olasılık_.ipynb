{
  "nbformat": 4,
  "nbformat_minor": 0,
  "metadata": {
    "colab": {
      "name": "Ödev3 temel olasılık .ipynb",
      "provenance": [],
      "authorship_tag": "ABX9TyNu4GjlEDdZWjQF4JctZT+B",
      "include_colab_link": true
    },
    "kernelspec": {
      "name": "python3",
      "display_name": "Python 3"
    },
    "language_info": {
      "name": "python"
    }
  },
  "cells": [
    {
      "cell_type": "markdown",
      "metadata": {
        "id": "view-in-github",
        "colab_type": "text"
      },
      "source": [
        "<a href=\"https://colab.research.google.com/github/tawfiqahmad88/Ayrik-Sistemler-Icin-Ileri-Olasilik-devi-01/blob/main/%C3%96dev3_temel_olas%C4%B1l%C4%B1k_.ipynb\" target=\"_parent\"><img src=\"https://colab.research.google.com/assets/colab-badge.svg\" alt=\"Open In Colab\"/></a>"
      ]
    },
    {
      "cell_type": "markdown",
      "source": [
        "**Ödev- 03**\n",
        "\n",
        "**SORU:**\n",
        "40 kişlik bir öğrenci grubunda  basket oyanyanların saysı da 21 , Tenis oyanyanların saysı da 12 dir .\n",
        "8 kişi her ikisini de oynadığna göre, bu gruptan rastgele seçilen birinin basketbal veya tenis oynama olasıgı kaçtır ?\n",
        "\n",
        "**QUESTION:** In a group of students consist of 40 students , the number of students who are  playing basketball is 21, and the number of students who are playing tennis is 12. If 8 students play together , what is the probability that a randomly selected person from this group will play basketball or tennis?\n",
        "\n",
        "**ÇÖZÜM :**\n",
        "21 kişi basket oynuyorsa P(B)= 21/40 \n",
        "\n",
        "12 kişi basket oynuyorsa P(T)= 12/40 \n",
        "\n",
        "8 kişi ise her ikisini oynuyorsa P(B∩T)= 8/40\n",
        "\n",
        "O halde seçilen birınin basketbol veya tenis oynama olasılğı\n",
        "\n",
        "P(B∪T) = P(B) + P(T) –P(B∩T)\n",
        "        =21/40 + 12/40 - 8/40 = 5/8 = 0.625\n",
        " "
      ],
      "metadata": {
        "id": "_cOh_B6_7ypM"
      }
    },
    {
      "cell_type": "code",
      "source": [
        "from math import factorial\n",
        "from fractions import Fraction\n",
        "import numpy as np\n",
        "\n",
        "n=40\n",
        "nB=21\n",
        "nT=12\n",
        "nB_intersection_PT=8    # P(B∩T) \n",
        "P_B=Fraction(nB,n)   #P(B)=nB/n\n",
        "P_T=Fraction(nT,n)   #p(T)=nT/n\n",
        "P_PB_intersection_PT=Fraction(nB_intersection_PT,n)   #P(B∩T)=8/n\n",
        "P_B_U_T=  P_B + P_T -P_PB_intersection_PT\n",
        "print(\"\\n P(BUT):\" , P_B_U_T  ,\"---->\", float(P_B_U_T))"
      ],
      "metadata": {
        "colab": {
          "base_uri": "https://localhost:8080/"
        },
        "id": "-VdgKvHP6g-P",
        "outputId": "7772b93c-cb12-45e4-97b7-cc05213c8e3b"
      },
      "execution_count": null,
      "outputs": [
        {
          "output_type": "stream",
          "name": "stdout",
          "text": [
            "\n",
            " P(BUT): 5/8 ----> 0.625\n"
          ]
        }
      ]
    }
  ]
}