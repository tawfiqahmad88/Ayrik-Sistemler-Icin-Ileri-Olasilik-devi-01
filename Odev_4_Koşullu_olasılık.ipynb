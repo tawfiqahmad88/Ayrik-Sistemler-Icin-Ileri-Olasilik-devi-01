{
  "nbformat": 4,
  "nbformat_minor": 0,
  "metadata": {
    "colab": {
      "name": "Odev 4 Koşullu_olasılık.ipynb",
      "provenance": [],
      "authorship_tag": "ABX9TyOyg2qOF1BirXwngPZsEoV+",
      "include_colab_link": true
    },
    "kernelspec": {
      "name": "python3",
      "display_name": "Python 3"
    },
    "language_info": {
      "name": "python"
    }
  },
  "cells": [
    {
      "cell_type": "markdown",
      "metadata": {
        "id": "view-in-github",
        "colab_type": "text"
      },
      "source": [
        "<a href=\"https://colab.research.google.com/github/tawfiqahmad88/Ayrik-Sistemler-Icin-Ileri-Olasilik-devi-01/blob/main/Odev_4_Ko%C5%9Fullu_olas%C4%B1l%C4%B1k.ipynb\" target=\"_parent\"><img src=\"https://colab.research.google.com/assets/colab-badge.svg\" alt=\"Open In Colab\"/></a>"
      ]
    },
    {
      "cell_type": "markdown",
      "source": [
        "**ÖDEV-04**\n",
        "\n",
        "**koşullu olasılık**\n",
        "\n",
        "P(A/B) koşullu olasılık olarak bilinir ve A olayının başka bir B olayına bağlı olma olasılığı anlamına gelir. \"A'nın verilen B olasılığı\" olarak da bilinir. Bu koşullu olasılığı hızlı bir şekilde bulmak için P(A/B) formülü kullanılır.\n",
        "\n",
        "\n",
        "\n",
        "**ÖRNEK:**\n",
        "\n",
        "Bir zar atıldığını zarın üst yüzüne gelen sayının çift sayı olduğu bilindiğine göre asal sayı olma olasılığı kaçtır ?\n",
        "çözüm:\n",
        "Zarın atılması ile oluşan örnek uzay \n",
        "\n",
        "E = {1, 2 , 3 , 4 , 5 , 6 } olur.\n",
        "\n",
        "B = {üst yüze gelen sayının çift  olması }= { 2 , 4 , 6 } ... s( B)= 3 \n",
        "\n",
        "A = {asal sayı} = { 2 , 3 , 5 } s(A)=3\n",
        "A∩B = {üst yüze gelen  çift  sayılardan asal olani} = {2} ... s(A∩B)= 1\n",
        "\n",
        "P(A\\B) =   ((S(A∩B))/(S(E)))/((S(B))/(S(E)))    =  (S(A∩B))/(S(B))  =  1/3"
      ],
      "metadata": {
        "id": "V21KFQ3OKuT9"
      }
    },
    {
      "cell_type": "code",
      "source": [
        "from math import factorial\n",
        "from fractions import Fraction\n",
        "import numpy as np\n",
        "\n",
        "E={1,2,3,4,5,6}\n",
        "B={2,4,6}\n",
        "A={2,3.5}\n",
        "sE=len(E)\n",
        "sB=len(B)\n",
        "sA=len(A)\n",
        "A_interB=A.intersection(B)  #A∩B\n",
        "sA_interB=len(A_interB)\n",
        "P_AB=Fraction(Fraction(sA_interB,sE),(Fraction(sB,sE)))\n",
        "print(\"\\n sE=\", sE)\n",
        "print(\"\\n sB=\", sB)\n",
        "print(\"\\n sA=\", sA)\n",
        "print(\"\\n P(A\\B) = \",P_AB)"
      ],
      "metadata": {
        "colab": {
          "base_uri": "https://localhost:8080/"
        },
        "id": "CGVDHXJjGEsN",
        "outputId": "aa7a65fa-8990-4100-ee01-334a2bb95122"
      },
      "execution_count": null,
      "outputs": [
        {
          "output_type": "stream",
          "name": "stdout",
          "text": [
            "\n",
            " sE= 6\n",
            "\n",
            " sB= 3\n",
            "\n",
            " sA= 2\n",
            "\n",
            " P(A\\B) =  1/3\n"
          ]
        }
      ]
    }
  ]
}